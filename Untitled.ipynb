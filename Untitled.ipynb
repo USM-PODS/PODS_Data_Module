{
 "cells": [
  {
   "cell_type": "markdown",
   "id": "c31d79a9-0792-4085-9200-cd92dee27bee",
   "metadata": {},
   "source": [
    "# Importing Data"
   ]
  },
  {
   "cell_type": "markdown",
   "id": "4b0002b7-3877-4196-a5bd-0dd54d579021",
   "metadata": {},
   "source": [
    "## Importing different File types\n",
    "The first step to analyzing measurements is to properly procure the data needed, and to correctly icoporate it into your code. There are many different kinds of files that your information may be stored in, and Julia has many packages to import different file formats (as always, the internet is your friend). <br>\n",
    "For the purposes of this tutorial, we will be using the Julia packages CSV and DataFrames to import our data.<br>"
   ]
  },
  {
   "cell_type": "markdown",
   "id": "93dfb7ee-102d-4f52-917d-4e9c31158145",
   "metadata": {},
   "source": [
    "## The CSV Package\n",
    "CSV stands for \"comma seperated values\", it is a system to tell computers how to interpert the data contained in a file. Simply, it means that the data contained in the file has each entry seperated by a comma, and each row of data is sperated by a new line. Even if your data is not in this format, the CSV package is able to read in files properly as long as you can provide the method with certain properties of your data file. <br>\n",
    "The line of code to import the CSV package into your file is:\n",
    "```Julia\n",
    "using CSV\n",
    "```\n",
    "The most important part function of the CSV package in this code is to read in the \n"
   ]
  },
  {
   "cell_type": "code",
   "execution_count": null,
   "id": "117fd7cb-efa9-48c7-b7a2-38412ac7fa0a",
   "metadata": {},
   "outputs": [],
   "source": []
  }
 ],
 "metadata": {
  "kernelspec": {
   "display_name": "Julia 1.7.2",
   "language": "julia",
   "name": "julia-1.7"
  },
  "language_info": {
   "file_extension": ".jl",
   "mimetype": "application/julia",
   "name": "julia",
   "version": "1.7.2"
  }
 },
 "nbformat": 4,
 "nbformat_minor": 5
}
